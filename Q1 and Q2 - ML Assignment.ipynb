{
 "cells": [
  {
   "cell_type": "markdown",
   "metadata": {},
   "source": [
    "# CS4044D - Machine Learning Assignment\n",
    "- > **Submitted By - Vishnu Sajith, B180474CS**"
   ]
  },
  {
   "cell_type": "markdown",
   "metadata": {},
   "source": [
    "<h3>Importing Libraries</h3"
   ]
  },
  {
   "cell_type": "code",
   "execution_count": 1,
   "metadata": {},
   "outputs": [],
   "source": [
    "import numpy as np\n",
    "import math"
   ]
  },
  {
   "cell_type": "markdown",
   "metadata": {},
   "source": [
    "<h1>Qn1</h1>"
   ]
  },
  {
   "cell_type": "code",
   "execution_count": 2,
   "metadata": {},
   "outputs": [],
   "source": [
    "def g(x,mean,cov,d,p):\n",
    "    a = np.transpose(x-mean)\n",
    "    if d == 1:\n",
    "        cov_inverse = 1/cov\n",
    "        det_cov = cov\n",
    "    else:\n",
    "        cov_inverse = np.linalg.inv(cov)\n",
    "        det_cov = np.linalg.det(cov)\n",
    "    a = np.dot(cov_inverse,a)\n",
    "    a = np.dot((x-mean),a)\n",
    "    a *= -0.5\n",
    "    b = -0.5*d*np.log(2*math.pi)\n",
    "    c = -0.5*np.log(det_cov)\n",
    "    d = np.log(p)\n",
    "    return a + b + c + d"
   ]
  },
  {
   "cell_type": "markdown",
   "metadata": {},
   "source": [
    "<h2>Data Pre-processing for Q2</h2>"
   ]
  },
  {
   "cell_type": "markdown",
   "metadata": {},
   "source": [
    "<h4>Sample Data</h4>"
   ]
  },
  {
   "cell_type": "code",
   "execution_count": 3,
   "metadata": {},
   "outputs": [],
   "source": [
    "w1x1 = [-5.01, -5.43, 1.08, 0.86, -2.67, 4.94, -2.51, -2.25, 5.56, 1.03]\n",
    "w1x2 = [-8.12, -3.48, -5.52, -3.78, 0.63, 3.29, 2.09, -2.13, 2.86, -3.33]\n",
    "w1x3 = [-3.68, -3.54, 1.66, -4.11, 7.39, 2.08, -2.59, -6.94, -2.26, 4.33]"
   ]
  },
  {
   "cell_type": "code",
   "execution_count": 4,
   "metadata": {},
   "outputs": [],
   "source": [
    "w2x1 = [-0.91, 1.30, -7.75, -5.47, 6.14, 3.60, 5.37, 7.18, -7.39, -7.50]\n",
    "w2x2 = [-0.18, -2.06, -4.54, 0.50, 5.72, 1.26, -4.63, 1.46, 1.17, -6.32]\n",
    "w2x3 = [-0.05, -3.53, -0.95, 3.92, -4.85, 4.36, -3.65, -6.66, 6.30, -0.31]"
   ]
  },
  {
   "cell_type": "code",
   "execution_count": 5,
   "metadata": {},
   "outputs": [],
   "source": [
    "w3x1 = [5.35, 5.12, -1.34, 4.48, 7.11, 7.17, 5.75, 0.77, 0.90, 3.52]\n",
    "w3x2 = [2.26, 3.22, -5.31, 3.42, 2.39, 4.33, 3.97, 0.27, -0.43, -0.36]\n",
    "w3x3 = [8.13, -2.66, -9.87, 5.19, 9.21, -0.98, 6.65, 2.41, -8.71, 6.43]"
   ]
  },
  {
   "cell_type": "markdown",
   "metadata": {},
   "source": [
    "<h4>3 Features - x1,x2,x3</h4>"
   ]
  },
  {
   "cell_type": "markdown",
   "metadata": {},
   "source": [
    "##### - Mean"
   ]
  },
  {
   "cell_type": "code",
   "execution_count": 6,
   "metadata": {},
   "outputs": [],
   "source": [
    "w1_3d_mean = np.array([[np.mean(w1x1),np.mean(w1x2),np.mean(w1x3)]])\n",
    "w2_3d_mean = np.array([[np.mean(w2x1),np.mean(w2x2),np.mean(w2x3)]])\n",
    "w3_3d_mean = np.array([[np.mean(w3x1),np.mean(w3x2),np.mean(w3x3)]])"
   ]
  },
  {
   "cell_type": "markdown",
   "metadata": {},
   "source": [
    "##### - Covariance"
   ]
  },
  {
   "cell_type": "code",
   "execution_count": 7,
   "metadata": {},
   "outputs": [],
   "source": [
    "w1_3d = np.stack((w1x1,w1x2,w1x3),axis = 0)\n",
    "w1_3d_cov = np.cov(w1_3d)\n",
    "w2_3d = np.stack((w2x1,w2x2,w2x3),axis = 0)\n",
    "w2_3d_cov = np.cov(w2_3d)\n",
    "w3_3d = np.stack((w3x1,w3x2,w3x3),axis = 0)\n",
    "w3_3d_cov = np.cov(w3_3d)"
   ]
  },
  {
   "cell_type": "markdown",
   "metadata": {},
   "source": [
    "<h4>2 Features - x1,x2</h4>"
   ]
  },
  {
   "cell_type": "markdown",
   "metadata": {},
   "source": [
    "##### - Mean"
   ]
  },
  {
   "cell_type": "code",
   "execution_count": 8,
   "metadata": {},
   "outputs": [],
   "source": [
    "w1_2d_mean = np.array([[np.mean(w1x1),np.mean(w1x2)]])\n",
    "w2_2d_mean = np.array([[np.mean(w2x1),np.mean(w2x2)]])\n",
    "w3_2d_mean = np.array([[np.mean(w3x1),np.mean(w3x2)]])"
   ]
  },
  {
   "cell_type": "markdown",
   "metadata": {},
   "source": [
    "##### - Covariance"
   ]
  },
  {
   "cell_type": "code",
   "execution_count": 9,
   "metadata": {},
   "outputs": [],
   "source": [
    "w1_2d = np.stack((w1x1,w1x2),axis = 0)\n",
    "w1_2d_cov = np.cov(w1_2d)\n",
    "w2_2d = np.stack((w2x1,w2x2),axis = 0)\n",
    "w2_2d_cov = np.cov(w2_2d)\n",
    "w3_2d = np.stack((w3x1,w3x2),axis = 0)\n",
    "w3_2d_cov = np.cov(w3_2d)"
   ]
  },
  {
   "cell_type": "markdown",
   "metadata": {},
   "source": [
    "<h4>1 Feature - x1</h4>"
   ]
  },
  {
   "cell_type": "markdown",
   "metadata": {},
   "source": [
    "##### - Mean"
   ]
  },
  {
   "cell_type": "code",
   "execution_count": 10,
   "metadata": {},
   "outputs": [],
   "source": [
    "w1_1d_mean = np.mean(w1x1)\n",
    "w2_1d_mean = np.mean(w2x1)\n",
    "w3_1d_mean = np.mean(w3x1)"
   ]
  },
  {
   "cell_type": "markdown",
   "metadata": {},
   "source": [
    "##### - Covariance"
   ]
  },
  {
   "cell_type": "code",
   "execution_count": 11,
   "metadata": {},
   "outputs": [],
   "source": [
    "w1_1d_cov = np.cov(w1x1)\n",
    "w2_1d_cov = np.cov(w2x1)\n",
    "w3_1d_cov = np.cov(w3x1)"
   ]
  },
  {
   "cell_type": "markdown",
   "metadata": {},
   "source": [
    "### Sample Data"
   ]
  },
  {
   "cell_type": "code",
   "execution_count": 12,
   "metadata": {},
   "outputs": [],
   "source": [
    "w1 = np.stack((w1x1,w1x2,w1x3),axis = 1)\n",
    "w2 = np.stack((w2x1,w2x2,w2x3),axis = 1)\n",
    "w3 = np.stack((w3x1,w3x2,w3x3),axis = 1)"
   ]
  },
  {
   "cell_type": "markdown",
   "metadata": {},
   "source": [
    "# Qn2a"
   ]
  },
  {
   "cell_type": "code",
   "execution_count": 13,
   "metadata": {},
   "outputs": [],
   "source": [
    "def dichotomizer(w,x,m1,m2,m3,c1,c2,c3,d):\n",
    "    if g(x,m1,c1,d,0.5) > max(g(x,m2,c2,d,0.5),g(x,m3,c3,d,0)):\n",
    "        print(str(w) + \" is classified as W1 considering \" + str(d) + \" features \" + str(x))\n",
    "    elif g(x,m2,c2,d,0.5) > max(g(x,m1,c1,d,0.5),g(x,m3,c3,d,0)):\n",
    "        print(str(w) + \" is classified as W2 considering \" + str(d) + \" features \" + str(x))\n",
    "    elif g(x,m3,c3,d,0) > max(g(x,m1,c1,d,0.5),g(x,m2,c2,d,0.5)):\n",
    "        print(str(w) + \" is classified as W3 considering \" + str(d) + \" features \" + str(x))"
   ]
  },
  {
   "cell_type": "code",
   "execution_count": 14,
   "metadata": {},
   "outputs": [
    {
     "name": "stdout",
     "output_type": "stream",
     "text": [
      "\n",
      "-------------------------------To be classified as W1-------------------------------\n",
      "\n",
      "[-5.01 -8.12 -3.68] is classified as W1 considering 1 features -5.01\n",
      "[-5.43 -3.48 -3.54] is classified as W2 considering 1 features -5.43\n",
      "[ 1.08 -5.52  1.66] is classified as W1 considering 1 features 1.08\n",
      "[ 0.86 -3.78 -4.11] is classified as W1 considering 1 features 0.86\n",
      "[-2.67  0.63  7.39] is classified as W1 considering 1 features -2.67\n",
      "[4.94 3.29 2.08] is classified as W2 considering 1 features 4.94\n",
      "[-2.51  2.09 -2.59] is classified as W1 considering 1 features -2.51\n",
      "[-2.25 -2.13 -6.94] is classified as W1 considering 1 features -2.25\n",
      "[ 5.56  2.86 -2.26] is classified as W2 considering 1 features 5.56\n",
      "[ 1.03 -3.33  4.33] is classified as W1 considering 1 features 1.03\n",
      "\n",
      "-------------------------------To be classified as W2-------------------------------\n",
      "\n",
      "[-0.91 -0.18 -0.05] is classified as W1 considering 1 features -0.91\n",
      "[ 1.3  -2.06 -3.53] is classified as W1 considering 1 features 1.3\n",
      "[-7.75 -4.54 -0.95] is classified as W2 considering 1 features -7.75\n",
      "[-5.47  0.5   3.92] is classified as W2 considering 1 features -5.47\n",
      "[ 6.14  5.72 -4.85] is classified as W2 considering 1 features 6.14\n",
      "[3.6  1.26 4.36] is classified as W1 considering 1 features 3.6\n",
      "[ 5.37 -4.63 -3.65] is classified as W2 considering 1 features 5.37\n",
      "[ 7.18  1.46 -6.66] is classified as W2 considering 1 features 7.18\n",
      "[-7.39  1.17  6.3 ] is classified as W2 considering 1 features -7.39\n",
      "[-7.5  -6.32 -0.31] is classified as W2 considering 1 features -7.5\n",
      "\n",
      "-------------------------------To be classified as W3-------------------------------\n",
      "\n",
      "[5.35 2.26 8.13] is classified as W2 considering 1 features 5.35\n",
      "[ 5.12  3.22 -2.66] is classified as W2 considering 1 features 5.12\n",
      "[-1.34 -5.31 -9.87] is classified as W1 considering 1 features -1.34\n",
      "[4.48 3.42 5.19] is classified as W2 considering 1 features 4.48\n",
      "[7.11 2.39 9.21] is classified as W2 considering 1 features 7.11\n",
      "[ 7.17  4.33 -0.98] is classified as W2 considering 1 features 7.17\n",
      "[5.75 3.97 6.65] is classified as W2 considering 1 features 5.75\n",
      "[0.77 0.27 2.41] is classified as W1 considering 1 features 0.77\n",
      "[ 0.9  -0.43 -8.71] is classified as W1 considering 1 features 0.9\n",
      "[ 3.52 -0.36  6.43] is classified as W1 considering 1 features 3.52\n"
     ]
    },
    {
     "name": "stderr",
     "output_type": "stream",
     "text": [
      "C:\\ProgramData\\Anaconda3\\lib\\site-packages\\ipykernel_launcher.py:14: RuntimeWarning: divide by zero encountered in log\n",
      "  \n"
     ]
    }
   ],
   "source": [
    "print(\"\\n-------------------------------To be classified as W1-------------------------------\\n\")\n",
    "for x in w1:\n",
    "    dichotomizer(x,x[0],w1_1d_mean,w2_1d_mean,w3_1d_mean,w1_1d_cov,w2_1d_cov,w3_1d_cov,1)\n",
    "print(\"\\n-------------------------------To be classified as W2-------------------------------\\n\")\n",
    "for x in w2:\n",
    "    dichotomizer(x,x[0],w1_1d_mean,w2_1d_mean,w3_1d_mean,w1_1d_cov,w2_1d_cov,w3_1d_cov,1)\n",
    "print(\"\\n-------------------------------To be classified as W3-------------------------------\\n\")\n",
    "for x in w3:\n",
    "    dichotomizer(x,x[0],w1_1d_mean,w2_1d_mean,w3_1d_mean,w1_1d_cov,w2_1d_cov,w3_1d_cov,1)"
   ]
  },
  {
   "cell_type": "markdown",
   "metadata": {},
   "source": [
    "# Q2b"
   ]
  },
  {
   "cell_type": "code",
   "execution_count": 15,
   "metadata": {},
   "outputs": [],
   "source": [
    "def missclassification(w1,w2,w3,m1,m2,m3,c1,c2,c3,d):\n",
    "    count1 = 0\n",
    "    for x in w1:\n",
    "        if g(x,m1,c1,d,0.5) < max(g(x,m2,c2,d,0.5),g(x,m3,c3,d,0)):\n",
    "            count1 += 1\n",
    "    print(\"% of Missclassified Points in W1 is: \" + str(count1*100/len(w1))+str(\"%\"))\n",
    "    count2 = 0\n",
    "    for x in w2:\n",
    "        if g(x,m2,c2,d,0.5) < max(g(x,m1,c1,d,0.5),g(x,m3,c3,d,0)):\n",
    "            count2 += 1\n",
    "    print(\"% of Missclassified Points in W2 is: \" + str(count2*100/len(w2))+str(\"%\"))\n",
    "    count3 = 0\n",
    "    for x in w3:\n",
    "        if g(x,m3,c3,d,0) < max(g(x,m1,c1,d,0.5),g(x,m2,c2,d,0.5)):\n",
    "            count3 += 1\n",
    "    print(\"% of Missclassified Points in W3 is: \" + str(count3*100/len(w3)) + \"%\")\n",
    "    print(\"% of Missclassified Points in the dataset: \" + str((count1+count2+count3)*100/(len(w1)+len(w1)+len(w1))) + \"%\\n\")"
   ]
  },
  {
   "cell_type": "code",
   "execution_count": 16,
   "metadata": {},
   "outputs": [
    {
     "name": "stdout",
     "output_type": "stream",
     "text": [
      "\n",
      "----------Percentage of Missclassification----------\n",
      "\n",
      "% of Missclassified Points in W1 is: 30.0%\n",
      "% of Missclassified Points in W2 is: 30.0%\n",
      "% of Missclassified Points in W3 is: 100.0%\n",
      "% of Missclassified Points in the dataset: 53.333333333333336%\n",
      "\n"
     ]
    },
    {
     "name": "stderr",
     "output_type": "stream",
     "text": [
      "C:\\ProgramData\\Anaconda3\\lib\\site-packages\\ipykernel_launcher.py:14: RuntimeWarning: divide by zero encountered in log\n",
      "  \n"
     ]
    }
   ],
   "source": [
    "print(\"\\n----------Percentage of Missclassification----------\\n\")\n",
    "missclassification(w1x1,w2x1,w3x1,w1_1d_mean,w2_1d_mean,w3_1d_mean,w1_1d_cov,w2_1d_cov,w3_1d_cov,1)"
   ]
  },
  {
   "cell_type": "markdown",
   "metadata": {},
   "source": [
    "# Qn2c"
   ]
  },
  {
   "cell_type": "code",
   "execution_count": 17,
   "metadata": {},
   "outputs": [
    {
     "name": "stdout",
     "output_type": "stream",
     "text": [
      "\n",
      "-------------------------------To be classified as W1-------------------------------\n",
      "\n",
      "[-5.01 -8.12 -3.68] is classified as W1 considering 2 features [-5.01 -8.12]\n",
      "[-5.43 -3.48 -3.54] is classified as W2 considering 2 features [-5.43 -3.48]\n",
      "[ 1.08 -5.52  1.66] is classified as W1 considering 2 features [ 1.08 -5.52]\n",
      "[ 0.86 -3.78 -4.11] is classified as W1 considering 2 features [ 0.86 -3.78]\n",
      "[-2.67  0.63  7.39] is classified as W2 considering 2 features [-2.67  0.63]\n",
      "[4.94 3.29 2.08] is classified as W2 considering 2 features [4.94 3.29]\n",
      "[-2.51  2.09 -2.59] is classified as W2 considering 2 features [-2.51  2.09]\n",
      "[-2.25 -2.13 -6.94] is classified as W1 considering 2 features [-2.25 -2.13]\n",
      "[ 5.56  2.86 -2.26] is classified as W2 considering 2 features [5.56 2.86]\n",
      "[ 1.03 -3.33  4.33] is classified as W1 considering 2 features [ 1.03 -3.33]\n",
      "\n",
      "-------------------------------To be classified as W2-------------------------------\n",
      "\n",
      "[-0.91 -0.18 -0.05] is classified as W1 considering 2 features [-0.91 -0.18]\n",
      "[ 1.3  -2.06 -3.53] is classified as W1 considering 2 features [ 1.3  -2.06]\n",
      "[-7.75 -4.54 -0.95] is classified as W2 considering 2 features [-7.75 -4.54]\n",
      "[-5.47  0.5   3.92] is classified as W2 considering 2 features [-5.47  0.5 ]\n",
      "[ 6.14  5.72 -4.85] is classified as W2 considering 2 features [6.14 5.72]\n",
      "[3.6  1.26 4.36] is classified as W1 considering 2 features [3.6  1.26]\n",
      "[ 5.37 -4.63 -3.65] is classified as W2 considering 2 features [ 5.37 -4.63]\n",
      "[ 7.18  1.46 -6.66] is classified as W2 considering 2 features [7.18 1.46]\n",
      "[-7.39  1.17  6.3 ] is classified as W2 considering 2 features [-7.39  1.17]\n",
      "[-7.5  -6.32 -0.31] is classified as W1 considering 2 features [-7.5  -6.32]\n",
      "\n",
      "-------------------------------To be classified as W3-------------------------------\n",
      "\n",
      "[5.35 2.26] is classified as W2 considering 2 features [5.35 2.26]\n",
      "[5.12 3.22] is classified as W2 considering 2 features [5.12 3.22]\n",
      "[-1.34 -5.31] is classified as W1 considering 2 features [-1.34 -5.31]\n",
      "[4.48 3.42] is classified as W1 considering 2 features [4.48 3.42]\n",
      "[7.11 2.39] is classified as W2 considering 2 features [7.11 2.39]\n",
      "[7.17 4.33] is classified as W2 considering 2 features [7.17 4.33]\n",
      "[5.75 3.97] is classified as W2 considering 2 features [5.75 3.97]\n",
      "[0.77 0.27] is classified as W1 considering 2 features [0.77 0.27]\n",
      "[ 0.9  -0.43] is classified as W1 considering 2 features [ 0.9  -0.43]\n",
      "[ 3.52 -0.36] is classified as W1 considering 2 features [ 3.52 -0.36]\n",
      "\n",
      "--------------------------Percentage of Missclassification--------------------------\n",
      "\n",
      "% of Missclassified Points in W1 is: 50.0%\n",
      "% of Missclassified Points in W2 is: 40.0%\n",
      "% of Missclassified Points in W3 is: 100.0%\n",
      "% of Missclassified Points in the dataset: 63.333333333333336%\n",
      "\n"
     ]
    },
    {
     "name": "stderr",
     "output_type": "stream",
     "text": [
      "C:\\ProgramData\\Anaconda3\\lib\\site-packages\\ipykernel_launcher.py:14: RuntimeWarning: divide by zero encountered in log\n",
      "  \n"
     ]
    }
   ],
   "source": [
    "w1_2d = np.stack((w1x1,w1x2),axis = 1)\n",
    "w2_2d = np.stack((w2x1,w2x2),axis = 1)\n",
    "w3_2d = np.stack((w3x1,w3x2),axis = 1)\n",
    "print(\"\\n-------------------------------To be classified as W1-------------------------------\\n\")\n",
    "for x in w1:\n",
    "    dichotomizer(x,x[0:2],w1_2d_mean,w2_2d_mean,w3_2d_mean,w1_2d_cov,w2_2d_cov,w3_2d_cov,2)\n",
    "print(\"\\n-------------------------------To be classified as W2-------------------------------\\n\")\n",
    "for x in w2:\n",
    "    dichotomizer(x,x[0:2],w1_2d_mean,w2_2d_mean,w3_2d_mean,w1_2d_cov,w2_2d_cov,w3_2d_cov,2)\n",
    "print(\"\\n-------------------------------To be classified as W3-------------------------------\\n\")\n",
    "for x in w3_2d:\n",
    "    dichotomizer(x,x[0:2],w1_2d_mean,w2_2d_mean,w3_2d_mean,w1_2d_cov,w2_2d_cov,w3_2d_cov,2)\n",
    "print(\"\\n--------------------------Percentage of Missclassification--------------------------\\n\")\n",
    "missclassification(w1_2d,w2_2d,w3_2d,w1_2d_mean,w2_2d_mean,w3_2d_mean,w1_2d_cov,w2_2d_cov,w3_2d_cov,2)"
   ]
  },
  {
   "cell_type": "markdown",
   "metadata": {},
   "source": [
    "# Qn2d"
   ]
  },
  {
   "cell_type": "code",
   "execution_count": 18,
   "metadata": {
    "scrolled": false
   },
   "outputs": [
    {
     "name": "stdout",
     "output_type": "stream",
     "text": [
      "\n",
      "-------------------------------To be classified as W1-------------------------------\n",
      "\n",
      "[-5.01 -8.12 -3.68] is classified as W1 considering 3 features [-5.01 -8.12 -3.68]\n",
      "[-5.43 -3.48 -3.54] is classified as W1 considering 3 features [-5.43 -3.48 -3.54]\n"
     ]
    },
    {
     "name": "stderr",
     "output_type": "stream",
     "text": [
      "C:\\ProgramData\\Anaconda3\\lib\\site-packages\\ipykernel_launcher.py:14: RuntimeWarning: divide by zero encountered in log\n",
      "  \n"
     ]
    },
    {
     "name": "stdout",
     "output_type": "stream",
     "text": [
      "[ 1.08 -5.52  1.66] is classified as W1 considering 3 features [ 1.08 -5.52  1.66]\n",
      "[ 0.86 -3.78 -4.11] is classified as W1 considering 3 features [ 0.86 -3.78 -4.11]\n",
      "[-2.67  0.63  7.39] is classified as W2 considering 3 features [-2.67  0.63  7.39]\n",
      "[4.94 3.29 2.08] is classified as W1 considering 3 features [4.94 3.29 2.08]\n",
      "[-2.51  2.09 -2.59] is classified as W1 considering 3 features [-2.51  2.09 -2.59]\n",
      "[-2.25 -2.13 -6.94] is classified as W1 considering 3 features [-2.25 -2.13 -6.94]\n",
      "[ 5.56  2.86 -2.26] is classified as W2 considering 3 features [ 5.56  2.86 -2.26]\n",
      "[ 1.03 -3.33  4.33] is classified as W1 considering 3 features [ 1.03 -3.33  4.33]\n",
      "\n",
      "-------------------------------To be classified as W2-------------------------------\n",
      "\n",
      "[-0.91 -0.18 -0.05] is classified as W2 considering 3 features [-0.91 -0.18 -0.05]\n",
      "[ 1.3  -2.06 -3.53] is classified as W2 considering 3 features [ 1.3  -2.06 -3.53]\n",
      "[-7.75 -4.54 -0.95] is classified as W2 considering 3 features [-7.75 -4.54 -0.95]\n",
      "[-5.47  0.5   3.92] is classified as W2 considering 3 features [-5.47  0.5   3.92]\n",
      "[ 6.14  5.72 -4.85] is classified as W2 considering 3 features [ 6.14  5.72 -4.85]\n",
      "[3.6  1.26 4.36] is classified as W1 considering 3 features [3.6  1.26 4.36]\n",
      "[ 5.37 -4.63 -3.65] is classified as W2 considering 3 features [ 5.37 -4.63 -3.65]\n",
      "[ 7.18  1.46 -6.66] is classified as W2 considering 3 features [ 7.18  1.46 -6.66]\n",
      "[-7.39  1.17  6.3 ] is classified as W2 considering 3 features [-7.39  1.17  6.3 ]\n",
      "[-7.5  -6.32 -0.31] is classified as W2 considering 3 features [-7.5  -6.32 -0.31]\n",
      "\n",
      "-------------------------------To be classified as W3-------------------------------\n",
      "\n",
      "[5.35 2.26 8.13] is classified as W1 considering 3 features [5.35 2.26 8.13]\n",
      "[ 5.12  3.22 -2.66] is classified as W2 considering 3 features [ 5.12  3.22 -2.66]\n",
      "[-1.34 -5.31 -9.87] is classified as W1 considering 3 features [-1.34 -5.31 -9.87]\n",
      "[4.48 3.42 5.19] is classified as W1 considering 3 features [4.48 3.42 5.19]\n",
      "[7.11 2.39 9.21] is classified as W1 considering 3 features [7.11 2.39 9.21]\n",
      "[ 7.17  4.33 -0.98] is classified as W2 considering 3 features [ 7.17  4.33 -0.98]\n",
      "[5.75 3.97 6.65] is classified as W1 considering 3 features [5.75 3.97 6.65]\n",
      "[0.77 0.27 2.41] is classified as W1 considering 3 features [0.77 0.27 2.41]\n",
      "[ 0.9  -0.43 -8.71] is classified as W1 considering 3 features [ 0.9  -0.43 -8.71]\n",
      "[ 3.52 -0.36  6.43] is classified as W1 considering 3 features [ 3.52 -0.36  6.43]\n",
      "\n",
      "--------------------------Percentage of Missclassification--------------------------\n",
      "\n",
      "% of Missclassified Points in W1 is: 20.0%\n",
      "% of Missclassified Points in W2 is: 10.0%\n",
      "% of Missclassified Points in W3 is: 100.0%\n",
      "% of Missclassified Points in the dataset: 43.333333333333336%\n",
      "\n"
     ]
    }
   ],
   "source": [
    "print(\"\\n-------------------------------To be classified as W1-------------------------------\\n\")\n",
    "for x in w1:\n",
    "    dichotomizer(x,x,w1_3d_mean,w2_3d_mean,w3_3d_mean,w1_3d_cov,w2_3d_cov,w3_3d_cov,3)\n",
    "print(\"\\n-------------------------------To be classified as W2-------------------------------\\n\")\n",
    "for x in w2:\n",
    "    dichotomizer(x,x,w1_3d_mean,w2_3d_mean,w3_3d_mean,w1_3d_cov,w2_3d_cov,w3_3d_cov,3)\n",
    "print(\"\\n-------------------------------To be classified as W3-------------------------------\\n\")\n",
    "for x in w3:\n",
    "    dichotomizer(x,x,w1_3d_mean,w2_3d_mean,w3_3d_mean,w1_3d_cov,w2_3d_cov,w3_3d_cov,3)\n",
    "print(\"\\n--------------------------Percentage of Missclassification--------------------------\\n\")\n",
    "missclassification(w1,w2,w3,w1_3d_mean,w2_3d_mean,w3_3d_mean,w1_3d_cov,w2_3d_cov,w3_3d_cov,3)"
   ]
  },
  {
   "cell_type": "markdown",
   "metadata": {},
   "source": [
    "# Qn2e\n",
    "\n",
    "- > We can see that misclassification is highest when it comes to **2-features; 63.33%.**\n",
    "- > The lowest misclassifications occur in the case of **3-features; 43.33%**\n",
    "- > The misclassification in the case of **1-feature is 53.33%**"
   ]
  },
  {
   "cell_type": "markdown",
   "metadata": {},
   "source": [
    "# Qn2f"
   ]
  },
  {
   "cell_type": "code",
   "execution_count": 19,
   "metadata": {},
   "outputs": [],
   "source": [
    "def classify(x,d):\n",
    "    if d == 1:\n",
    "        dichotomizer(x,x[0][0],w1_1d_mean,w2_1d_mean,w3_1d_mean,w1_1d_cov,w2_1d_cov,w3_1d_cov,1)\n",
    "    elif d == 2:\n",
    "        dichotomizer(x,x[0][0:2],w1_2d_mean,w2_2d_mean,w3_2d_mean,w1_2d_cov,w2_2d_cov,w3_2d_cov,2)\n",
    "    elif d == 3:\n",
    "        dichotomizer(x,x,w1_3d_mean,w2_3d_mean,w3_3d_mean,w1_3d_cov,w2_3d_cov,w3_3d_cov,3)"
   ]
  },
  {
   "cell_type": "code",
   "execution_count": 20,
   "metadata": {
    "scrolled": true
   },
   "outputs": [
    {
     "name": "stdout",
     "output_type": "stream",
     "text": [
      "[[1, 2, 1]] is classified as W1 considering 1 features 1\n",
      "[[1, 2, 1]] is classified as W1 considering 2 features [1, 2]\n",
      "[[1, 2, 1]] is classified as W2 considering 3 features [[1, 2, 1]]\n",
      "--------------------------------------------------------------------\n",
      "[[5, 3, 2]] is classified as W2 considering 1 features 5\n",
      "[[5, 3, 2]] is classified as W2 considering 2 features [5, 3]\n",
      "[[5, 3, 2]] is classified as W1 considering 3 features [[5, 3, 2]]\n",
      "--------------------------------------------------------------------\n",
      "[[0, 0, 0]] is classified as W1 considering 1 features 0\n",
      "[[0, 0, 0]] is classified as W1 considering 2 features [0, 0]\n",
      "[[0, 0, 0]] is classified as W1 considering 3 features [[0, 0, 0]]\n",
      "--------------------------------------------------------------------\n",
      "[[1, 0, 0]] is classified as W1 considering 1 features 1\n",
      "[[1, 0, 0]] is classified as W1 considering 2 features [1, 0]\n",
      "[[1, 0, 0]] is classified as W1 considering 3 features [[1, 0, 0]]\n",
      "--------------------------------------------------------------------\n"
     ]
    },
    {
     "name": "stderr",
     "output_type": "stream",
     "text": [
      "C:\\ProgramData\\Anaconda3\\lib\\site-packages\\ipykernel_launcher.py:14: RuntimeWarning: divide by zero encountered in log\n",
      "  \n"
     ]
    }
   ],
   "source": [
    "input_sample = [[1,2,1],[5,3,2],[0,0,0],[1,0,0]]\n",
    "for sample in input_sample:\n",
    "    for feature in range(1,4):\n",
    "        classify([sample],feature)\n",
    "    print(\"--------------------------------------------------------------------\")"
   ]
  },
  {
   "cell_type": "markdown",
   "metadata": {},
   "source": [
    "### Inference and Conclusion\n",
    "\n",
    "- > From our observation above, we know that **percentage of misclassification is least when we consider 3-features**\n",
    "- > Hence we can conclude that the sample [1,2,1] and [5,3,2] are misclassified as W1 and W2 respectively when we consider 1 feature and 2 features.\n",
    "- > Hence, the sample **[1,2,1] most likely belongs to class W2 and sample [5,3,2] most likely belongs to W1**\n",
    "- > The sample **[0,0,0] and [1,0,0] is classified as W1 considering 1,2, and 3 features.**"
   ]
  }
 ],
 "metadata": {
  "kernelspec": {
   "display_name": "Python 3",
   "language": "python",
   "name": "python3"
  },
  "language_info": {
   "codemirror_mode": {
    "name": "ipython",
    "version": 3
   },
   "file_extension": ".py",
   "mimetype": "text/x-python",
   "name": "python",
   "nbconvert_exporter": "python",
   "pygments_lexer": "ipython3",
   "version": "3.7.4"
  }
 },
 "nbformat": 4,
 "nbformat_minor": 2
}
